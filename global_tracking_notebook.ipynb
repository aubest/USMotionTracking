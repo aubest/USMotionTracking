{
 "cells": [
  {
   "cell_type": "markdown",
   "metadata": {},
   "source": [
    "# Prediction visualization notebook"
   ]
  },
  {
   "cell_type": "code",
   "execution_count": 1,
   "metadata": {},
   "outputs": [],
   "source": [
    "from dataLoader import DataLoader, compute_euclidean_distance, prepare_input_img\n",
    "from network import create_model\n",
    "import os\n",
    "import numpy as np\n",
    "from custom_KFold import MyKFold\n",
    "from block_matching_utils import find_template_pixel, global_template_search\n",
    "from PIL import Image\n",
    "import pandas as pd\n",
    "from tensorflow import keras\n",
    "import logging\n",
    "import skimage\n",
    "import matplotlib.pyplot as plt\n",
    "from utils import *\n",
    "from global_tracking import *"
   ]
  },
  {
   "cell_type": "code",
   "execution_count": 2,
   "metadata": {},
   "outputs": [],
   "source": [
    "np.random.seed(seed=42)\n",
    "exp_name = 'exp_80_50_128_se60'\n",
    "params_dict = {'dropout_rate': 0.5, 'n_epochs': 5,\n",
    "               'h3': 0, 'embed_size': 128, 'width': 80, 'search_w': 60}\n",
    "\n",
    "# ============ DATA AND SAVING DIRS SETUP ========== #\n",
    "data_dir = os.getenv('DATA_PATH')\n",
    "test_dir = os.getenv('TEST_PATH')\n",
    "exp_dir = os.getenv('EXP_PATH')\n",
    "checkpoint_dir = os.path.join(exp_dir, exp_name)\n",
    "if not os.path.exists(checkpoint_dir):\n",
    "    os.makedirs(checkpoint_dir)\n",
    "params_dict = get_default_params(params_dict)"
   ]
  },
  {
   "cell_type": "markdown",
   "metadata": {},
   "source": [
    "## Restore trained model"
   ]
  },
  {
   "cell_type": "code",
   "execution_count": 3,
   "metadata": {},
   "outputs": [
    {
     "name": "stdout",
     "output_type": "stream",
     "text": [
      "(?, 81, 81, 1)\n"
     ]
    }
   ],
   "source": [
    "model = create_model(params_dict['width']+1,\n",
    "                     params_dict['h1'],\n",
    "                     params_dict['h2'],\n",
    "                     params_dict['h3'],\n",
    "                     embed_size=params_dict['embed_size'],\n",
    "                     drop_out_rate=params_dict['dropout_rate'],\n",
    "                     use_batch_norm=params_dict['use_batchnorm'])\n",
    "model.load_weights(os.path.join(checkpoint_dir, 'model.h5'))"
   ]
  },
  {
   "cell_type": "markdown",
   "metadata": {},
   "source": [
    "### Get test folder"
   ]
  },
  {
   "cell_type": "code",
   "execution_count": null,
   "metadata": {},
   "outputs": [
    {
     "name": "stderr",
     "output_type": "stream",
     "text": [
      "/Applications/miniconda3/lib/python3.6/site-packages/ipykernel_launcher.py:5: ParserWarning: Falling back to the 'python' engine because the 'c' engine does not support regex separators (separators > 1 char and different from '\\s+' are interpreted as regex); you can avoid this warning by specifying engine='python'.\n",
      "  \"\"\"\n"
     ]
    }
   ],
   "source": [
    "# ['ETH-04-1' 'MED-01-1' 'CIL-01' 'MED-02-2']\n",
    "testfolder = 'ETH-04-1' \n",
    "resolution_df = pd.read_csv(os.path.join(data_dir, 'resolution.csv'),\n",
    "                                         sep=',\\s+',\n",
    "                                         decimal='.')\n",
    "res_x, res_y = resolution_df.loc[resolution_df['scan']\n",
    "                == testfolder, ['res_x', 'res_y']].values[0]\n",
    "testfolder = os.path.join(data_dir, 'ETH-04-1')"
   ]
  },
  {
   "cell_type": "markdown",
   "metadata": {},
   "source": [
    "### Predict on all features and save predictions"
   ]
  },
  {
   "cell_type": "code",
   "execution_count": null,
   "metadata": {},
   "outputs": [
    {
     "name": "stdout",
     "output_type": "stream",
     "text": [
      "['ETH-04-1_1.txt', 'ETH-04-1_2.txt']\n"
     ]
    },
    {
     "name": "stderr",
     "output_type": "stream",
     "text": [
      "/Applications/miniconda3/lib/python3.6/site-packages/skimage/transform/_warps.py:105: UserWarning: The default mode, 'constant', will be changed to 'reflect' in skimage 0.15.\n",
      "  warn(\"The default mode, 'constant', will be changed to 'reflect' in \"\n",
      "/Applications/miniconda3/lib/python3.6/site-packages/skimage/transform/_warps.py:110: UserWarning: Anti-aliasing will be enabled by default in skimage 0.15 to avoid aliasing artifacts when down-sampling images.\n",
      "  warn(\"Anti-aliasing will be enabled by default in skimage 0.15 to \"\n"
     ]
    },
    {
     "name": "stdout",
     "output_type": "stream",
     "text": [
      "100\n",
      "200\n",
      "300\n"
     ]
    }
   ],
   "source": [
    "predict_testfolder(testfolder, data_dir, res_x, res_y, model, params_dict)"
   ]
  },
  {
   "cell_type": "markdown",
   "metadata": {},
   "source": [
    "## Visualize prediction for one feature"
   ]
  },
  {
   "cell_type": "code",
   "execution_count": null,
   "metadata": {},
   "outputs": [],
   "source": [
    "img_dir = os.path.join(data_dir, testfolder, 'Data')\n",
    "annotation_dir = os.path.join(data_dir, testfolder, 'Annotation')\n",
    "feat = 'ETH-04-1_1.txt'\n",
    "pred_feat1 = pd.read_csv(os.path.join(checkpoint_dir, feat),\n",
    "                                         sep=',\\s+',\n",
    "                                         decimal='.')\n",
    "true_feat1 = pd.read_csv(os.path.join(annotation_dir, feat),\n",
    "                                         sep=',\\s+',\n",
    "                                         decimal='.')"
   ]
  },
  {
   "cell_type": "code",
   "execution_count": null,
   "metadata": {},
   "outputs": [],
   "source": [
    "\n",
    "i = 100\n",
    "try:\n",
    "    img = np.asarray(Image.open(os.path.join(img_dir, '{:4d}.png'.format(i))))\n",
    "except FileNotFoundError:\n",
    "    img = np.asarray(Image.open(os.path.join(img_dir, '{:5d}.png'.format(i))))\n",
    "plt.imshow(img)\n",
    "plt.scatter(pred_feat1.loc[pred_feat1.id==i, c1], pred_feat1.loc[pred_feat1.id==i, c2])\n",
    "plt.show()"
   ]
  },
  {
   "cell_type": "code",
   "execution_count": null,
   "metadata": {},
   "outputs": [],
   "source": [
    "plt.plot(pred_feat1.id, pred_feat1.c1, 'b')\n",
    "plt.show()\n",
    "plt.plot(true_feat1.id, true_feat1.c1, 'r*')\n",
    "plt.show()"
   ]
  },
  {
   "cell_type": "code",
   "execution_count": null,
   "metadata": {},
   "outputs": [],
   "source": [
    "plt.plot(pred_feat1.id, pred_feat1.c2)\n",
    "plt.show()"
   ]
  },
  {
   "cell_type": "code",
   "execution_count": null,
   "metadata": {},
   "outputs": [],
   "source": []
  },
  {
   "cell_type": "code",
   "execution_count": null,
   "metadata": {},
   "outputs": [],
   "source": []
  },
  {
   "cell_type": "code",
   "execution_count": null,
   "metadata": {},
   "outputs": [],
   "source": []
  }
 ],
 "metadata": {
  "kernelspec": {
   "display_name": "Python 3",
   "language": "python",
   "name": "python3"
  },
  "language_info": {
   "codemirror_mode": {
    "name": "ipython",
    "version": 3
   },
   "file_extension": ".py",
   "mimetype": "text/x-python",
   "name": "python",
   "nbconvert_exporter": "python",
   "pygments_lexer": "ipython3",
   "version": "3.6.4"
  }
 },
 "nbformat": 4,
 "nbformat_minor": 2
}
